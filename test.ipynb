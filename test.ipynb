{
 "cells": [
  {
   "cell_type": "code",
   "execution_count": 1,
   "id": "e49002ab-89c9-416c-a2db-f1fbb8f3ce47",
   "metadata": {},
   "outputs": [],
   "source": [
    "import ipywidgets as widgets"
   ]
  },
  {
   "cell_type": "code",
   "execution_count": 2,
   "id": "b7ccae8a-a079-4b25-99f8-68eb84badc81",
   "metadata": {},
   "outputs": [
    {
     "data": {
      "application/vnd.jupyter.widget-view+json": {
       "model_id": "92a960d19c0c4e69a76c989895e404ec",
       "version_major": 2,
       "version_minor": 0
      },
      "text/plain": [
       "IntSlider(value=0)"
      ]
     },
     "metadata": {},
     "output_type": "display_data"
    }
   ],
   "source": [
    "widgets.IntSlider()"
   ]
  },
  {
   "cell_type": "code",
   "execution_count": 15,
   "id": "526bce9e-68c2-4449-a487-238e3b6d8c0a",
   "metadata": {},
   "outputs": [],
   "source": [
    "import pandas as pd"
   ]
  },
  {
   "cell_type": "code",
   "execution_count": null,
   "id": "7c6339eb-858a-4616-b898-76e44f1e1210",
   "metadata": {},
   "outputs": [],
   "source": [
    " pip install vega_datasets"
   ]
  },
  {
   "cell_type": "code",
   "execution_count": null,
   "id": "b59beb2b-b6ba-442e-aae0-dbf7617c34e8",
   "metadata": {},
   "outputs": [],
   "source": [
    "pip install pyecharts -U"
   ]
  },
  {
   "cell_type": "code",
   "execution_count": 16,
   "id": "45f71989-1412-4563-85da-5204101a9ad2",
   "metadata": {},
   "outputs": [
    {
     "name": "stdout",
     "output_type": "stream",
     "text": [
      "         Date company   price\n",
      "0  2007-10-01    AAPL  189.95\n",
      "1  2007-11-01    AAPL  182.22\n",
      "2  2007-12-01    AAPL  198.08\n",
      "3  2007-10-01    AMZN   89.15\n",
      "4  2007-11-01    AMZN   90.56\n",
      "5  2007-12-01    AMZN   92.64\n",
      "6  2007-10-01    GOOG  707.00\n",
      "7  2007-11-01    GOOG  693.00\n",
      "8  2007-12-01    GOOG  691.48\n"
     ]
    }
   ],
   "source": [
    "long_form = pd.DataFrame({'Date': ['2007-10-01', '2007-11-01', '2007-12-01',\n",
    "                                   '2007-10-01', '2007-11-01', '2007-12-01',\n",
    "                                   '2007-10-01', '2007-11-01', '2007-12-01'],\n",
    "                          'company': ['AAPL', 'AAPL', 'AAPL',\n",
    "                                      'AMZN', 'AMZN', 'AMZN',\n",
    "                                      'GOOG', 'GOOG', 'GOOG'],\n",
    "                          'price': [189.95, 182.22, 198.08,\n",
    "                                     89.15,  90.56,  92.64,\n",
    "                                    707.00, 693.00, 691.48]})\n",
    "print(long_form)"
   ]
  },
  {
   "cell_type": "code",
   "execution_count": 17,
   "id": "639d5fff-b15e-4c15-bf04-7eeb4a0a78a5",
   "metadata": {},
   "outputs": [
    {
     "data": {
      "text/html": [
       "\n",
       "<div id=\"altair-viz-46e917dc3c3341c0a782e58b5c0986f3\"></div>\n",
       "<script type=\"text/javascript\">\n",
       "  var VEGA_DEBUG = (typeof VEGA_DEBUG == \"undefined\") ? {} : VEGA_DEBUG;\n",
       "  (function(spec, embedOpt){\n",
       "    let outputDiv = document.currentScript.previousElementSibling;\n",
       "    if (outputDiv.id !== \"altair-viz-46e917dc3c3341c0a782e58b5c0986f3\") {\n",
       "      outputDiv = document.getElementById(\"altair-viz-46e917dc3c3341c0a782e58b5c0986f3\");\n",
       "    }\n",
       "    const paths = {\n",
       "      \"vega\": \"https://cdn.jsdelivr.net/npm//vega@5?noext\",\n",
       "      \"vega-lib\": \"https://cdn.jsdelivr.net/npm//vega-lib?noext\",\n",
       "      \"vega-lite\": \"https://cdn.jsdelivr.net/npm//vega-lite@4.17.0?noext\",\n",
       "      \"vega-embed\": \"https://cdn.jsdelivr.net/npm//vega-embed@6?noext\",\n",
       "    };\n",
       "\n",
       "    function maybeLoadScript(lib, version) {\n",
       "      var key = `${lib.replace(\"-\", \"\")}_version`;\n",
       "      return (VEGA_DEBUG[key] == version) ?\n",
       "        Promise.resolve(paths[lib]) :\n",
       "        new Promise(function(resolve, reject) {\n",
       "          var s = document.createElement('script');\n",
       "          document.getElementsByTagName(\"head\")[0].appendChild(s);\n",
       "          s.async = true;\n",
       "          s.onload = () => {\n",
       "            VEGA_DEBUG[key] = version;\n",
       "            return resolve(paths[lib]);\n",
       "          };\n",
       "          s.onerror = () => reject(`Error loading script: ${paths[lib]}`);\n",
       "          s.src = paths[lib];\n",
       "        });\n",
       "    }\n",
       "\n",
       "    function showError(err) {\n",
       "      outputDiv.innerHTML = `<div class=\"error\" style=\"color:red;\">${err}</div>`;\n",
       "      throw err;\n",
       "    }\n",
       "\n",
       "    function displayChart(vegaEmbed) {\n",
       "      vegaEmbed(outputDiv, spec, embedOpt)\n",
       "        .catch(err => showError(`Javascript Error: ${err.message}<br>This usually means there's a typo in your chart specification. See the javascript console for the full traceback.`));\n",
       "    }\n",
       "\n",
       "    if(typeof define === \"function\" && define.amd) {\n",
       "      requirejs.config({paths});\n",
       "      require([\"vega-embed\"], displayChart, err => showError(`Error loading script: ${err.message}`));\n",
       "    } else {\n",
       "      maybeLoadScript(\"vega\", \"5\")\n",
       "        .then(() => maybeLoadScript(\"vega-lite\", \"4.17.0\"))\n",
       "        .then(() => maybeLoadScript(\"vega-embed\", \"6\"))\n",
       "        .catch(showError)\n",
       "        .then(() => displayChart(vegaEmbed));\n",
       "    }\n",
       "  })({\"config\": {\"view\": {\"continuousWidth\": 400, \"continuousHeight\": 300}}, \"data\": {\"name\": \"data-838ec4417e9a8df251f2031a5a48660b\"}, \"mark\": \"line\", \"encoding\": {\"color\": {\"field\": \"company\", \"type\": \"nominal\"}, \"x\": {\"field\": \"Date\", \"type\": \"temporal\"}, \"y\": {\"field\": \"price\", \"type\": \"quantitative\"}}, \"$schema\": \"https://vega.github.io/schema/vega-lite/v4.17.0.json\", \"datasets\": {\"data-838ec4417e9a8df251f2031a5a48660b\": [{\"Date\": \"2007-10-01\", \"company\": \"AAPL\", \"price\": 189.95}, {\"Date\": \"2007-11-01\", \"company\": \"AAPL\", \"price\": 182.22}, {\"Date\": \"2007-12-01\", \"company\": \"AAPL\", \"price\": 198.08}, {\"Date\": \"2007-10-01\", \"company\": \"AMZN\", \"price\": 89.15}, {\"Date\": \"2007-11-01\", \"company\": \"AMZN\", \"price\": 90.56}, {\"Date\": \"2007-12-01\", \"company\": \"AMZN\", \"price\": 92.64}, {\"Date\": \"2007-10-01\", \"company\": \"GOOG\", \"price\": 707.0}, {\"Date\": \"2007-11-01\", \"company\": \"GOOG\", \"price\": 693.0}, {\"Date\": \"2007-12-01\", \"company\": \"GOOG\", \"price\": 691.48}]}}, {\"mode\": \"vega-lite\"});\n",
       "</script>"
      ],
      "text/plain": [
       "alt.Chart(...)"
      ]
     },
     "execution_count": 17,
     "metadata": {},
     "output_type": "execute_result"
    }
   ],
   "source": [
    "alt.Chart(long_form).mark_line().encode(\n",
    "  x='Date:T',\n",
    "  y='price:Q',\n",
    "  color='company:N'\n",
    ")"
   ]
  },
  {
   "cell_type": "code",
   "execution_count": 20,
   "id": "a5609cca-0fd5-434b-81b2-93f205e4504f",
   "metadata": {},
   "outputs": [
    {
     "data": {
      "text/html": [
       "\n",
       "<div id=\"altair-viz-d2d1420a4b7b43ee88b905ff6902ecf5\"></div>\n",
       "<script type=\"text/javascript\">\n",
       "  var VEGA_DEBUG = (typeof VEGA_DEBUG == \"undefined\") ? {} : VEGA_DEBUG;\n",
       "  (function(spec, embedOpt){\n",
       "    let outputDiv = document.currentScript.previousElementSibling;\n",
       "    if (outputDiv.id !== \"altair-viz-d2d1420a4b7b43ee88b905ff6902ecf5\") {\n",
       "      outputDiv = document.getElementById(\"altair-viz-d2d1420a4b7b43ee88b905ff6902ecf5\");\n",
       "    }\n",
       "    const paths = {\n",
       "      \"vega\": \"https://cdn.jsdelivr.net/npm//vega@5?noext\",\n",
       "      \"vega-lib\": \"https://cdn.jsdelivr.net/npm//vega-lib?noext\",\n",
       "      \"vega-lite\": \"https://cdn.jsdelivr.net/npm//vega-lite@4.17.0?noext\",\n",
       "      \"vega-embed\": \"https://cdn.jsdelivr.net/npm//vega-embed@6?noext\",\n",
       "    };\n",
       "\n",
       "    function maybeLoadScript(lib, version) {\n",
       "      var key = `${lib.replace(\"-\", \"\")}_version`;\n",
       "      return (VEGA_DEBUG[key] == version) ?\n",
       "        Promise.resolve(paths[lib]) :\n",
       "        new Promise(function(resolve, reject) {\n",
       "          var s = document.createElement('script');\n",
       "          document.getElementsByTagName(\"head\")[0].appendChild(s);\n",
       "          s.async = true;\n",
       "          s.onload = () => {\n",
       "            VEGA_DEBUG[key] = version;\n",
       "            return resolve(paths[lib]);\n",
       "          };\n",
       "          s.onerror = () => reject(`Error loading script: ${paths[lib]}`);\n",
       "          s.src = paths[lib];\n",
       "        });\n",
       "    }\n",
       "\n",
       "    function showError(err) {\n",
       "      outputDiv.innerHTML = `<div class=\"error\" style=\"color:red;\">${err}</div>`;\n",
       "      throw err;\n",
       "    }\n",
       "\n",
       "    function displayChart(vegaEmbed) {\n",
       "      vegaEmbed(outputDiv, spec, embedOpt)\n",
       "        .catch(err => showError(`Javascript Error: ${err.message}<br>This usually means there's a typo in your chart specification. See the javascript console for the full traceback.`));\n",
       "    }\n",
       "\n",
       "    if(typeof define === \"function\" && define.amd) {\n",
       "      requirejs.config({paths});\n",
       "      require([\"vega-embed\"], displayChart, err => showError(`Error loading script: ${err.message}`));\n",
       "    } else {\n",
       "      maybeLoadScript(\"vega\", \"5\")\n",
       "        .then(() => maybeLoadScript(\"vega-lite\", \"4.17.0\"))\n",
       "        .then(() => maybeLoadScript(\"vega-embed\", \"6\"))\n",
       "        .catch(showError)\n",
       "        .then(() => displayChart(vegaEmbed));\n",
       "    }\n",
       "  })({\"config\": {\"view\": {\"continuousWidth\": 400, \"continuousHeight\": 300}}, \"layer\": [{\"mark\": {\"type\": \"errorbar\", \"extent\": \"ci\"}, \"encoding\": {\"x\": {\"field\": \"yield\", \"scale\": {\"zero\": false}, \"type\": \"quantitative\"}, \"y\": {\"field\": \"variety\", \"type\": \"nominal\"}}}, {\"mark\": {\"type\": \"point\", \"color\": \"black\", \"filled\": true}, \"encoding\": {\"x\": {\"aggregate\": \"mean\", \"field\": \"yield\", \"type\": \"quantitative\"}, \"y\": {\"field\": \"variety\", \"type\": \"nominal\"}}}], \"data\": {\"name\": \"data-093ece8c35bb2d41094cfb6138ec810b\"}, \"$schema\": \"https://vega.github.io/schema/vega-lite/v4.17.0.json\", \"datasets\": {\"data-093ece8c35bb2d41094cfb6138ec810b\": [{\"yield\": 27.0, \"variety\": \"Manchuria\", \"year\": 1931, \"site\": \"University Farm\"}, {\"yield\": 48.86667, \"variety\": \"Manchuria\", \"year\": 1931, \"site\": \"Waseca\"}, {\"yield\": 27.43334, \"variety\": \"Manchuria\", \"year\": 1931, \"site\": \"Morris\"}, {\"yield\": 39.93333, \"variety\": \"Manchuria\", \"year\": 1931, \"site\": \"Crookston\"}, {\"yield\": 32.96667, \"variety\": \"Manchuria\", \"year\": 1931, \"site\": \"Grand Rapids\"}, {\"yield\": 28.96667, \"variety\": \"Manchuria\", \"year\": 1931, \"site\": \"Duluth\"}, {\"yield\": 43.06666, \"variety\": \"Glabron\", \"year\": 1931, \"site\": \"University Farm\"}, {\"yield\": 55.2, \"variety\": \"Glabron\", \"year\": 1931, \"site\": \"Waseca\"}, {\"yield\": 28.76667, \"variety\": \"Glabron\", \"year\": 1931, \"site\": \"Morris\"}, {\"yield\": 38.13333, \"variety\": \"Glabron\", \"year\": 1931, \"site\": \"Crookston\"}, {\"yield\": 29.13333, \"variety\": \"Glabron\", \"year\": 1931, \"site\": \"Grand Rapids\"}, {\"yield\": 29.66667, \"variety\": \"Glabron\", \"year\": 1931, \"site\": \"Duluth\"}, {\"yield\": 35.13333, \"variety\": \"Svansota\", \"year\": 1931, \"site\": \"University Farm\"}, {\"yield\": 47.33333, \"variety\": \"Svansota\", \"year\": 1931, \"site\": \"Waseca\"}, {\"yield\": 25.76667, \"variety\": \"Svansota\", \"year\": 1931, \"site\": \"Morris\"}, {\"yield\": 40.46667, \"variety\": \"Svansota\", \"year\": 1931, \"site\": \"Crookston\"}, {\"yield\": 29.66667, \"variety\": \"Svansota\", \"year\": 1931, \"site\": \"Grand Rapids\"}, {\"yield\": 25.7, \"variety\": \"Svansota\", \"year\": 1931, \"site\": \"Duluth\"}, {\"yield\": 39.9, \"variety\": \"Velvet\", \"year\": 1931, \"site\": \"University Farm\"}, {\"yield\": 50.23333, \"variety\": \"Velvet\", \"year\": 1931, \"site\": \"Waseca\"}, {\"yield\": 26.13333, \"variety\": \"Velvet\", \"year\": 1931, \"site\": \"Morris\"}, {\"yield\": 41.33333, \"variety\": \"Velvet\", \"year\": 1931, \"site\": \"Crookston\"}, {\"yield\": 23.03333, \"variety\": \"Velvet\", \"year\": 1931, \"site\": \"Grand Rapids\"}, {\"yield\": 26.3, \"variety\": \"Velvet\", \"year\": 1931, \"site\": \"Duluth\"}, {\"yield\": 36.56666, \"variety\": \"Trebi\", \"year\": 1931, \"site\": \"University Farm\"}, {\"yield\": 63.8333, \"variety\": \"Trebi\", \"year\": 1931, \"site\": \"Waseca\"}, {\"yield\": 43.76667, \"variety\": \"Trebi\", \"year\": 1931, \"site\": \"Morris\"}, {\"yield\": 46.93333, \"variety\": \"Trebi\", \"year\": 1931, \"site\": \"Crookston\"}, {\"yield\": 29.76667, \"variety\": \"Trebi\", \"year\": 1931, \"site\": \"Grand Rapids\"}, {\"yield\": 33.93333, \"variety\": \"Trebi\", \"year\": 1931, \"site\": \"Duluth\"}, {\"yield\": 43.26667, \"variety\": \"No. 457\", \"year\": 1931, \"site\": \"University Farm\"}, {\"yield\": 58.1, \"variety\": \"No. 457\", \"year\": 1931, \"site\": \"Waseca\"}, {\"yield\": 28.7, \"variety\": \"No. 457\", \"year\": 1931, \"site\": \"Morris\"}, {\"yield\": 45.66667, \"variety\": \"No. 457\", \"year\": 1931, \"site\": \"Crookston\"}, {\"yield\": 32.16667, \"variety\": \"No. 457\", \"year\": 1931, \"site\": \"Grand Rapids\"}, {\"yield\": 33.6, \"variety\": \"No. 457\", \"year\": 1931, \"site\": \"Duluth\"}, {\"yield\": 36.6, \"variety\": \"No. 462\", \"year\": 1931, \"site\": \"University Farm\"}, {\"yield\": 65.7667, \"variety\": \"No. 462\", \"year\": 1931, \"site\": \"Waseca\"}, {\"yield\": 30.36667, \"variety\": \"No. 462\", \"year\": 1931, \"site\": \"Morris\"}, {\"yield\": 48.56666, \"variety\": \"No. 462\", \"year\": 1931, \"site\": \"Crookston\"}, {\"yield\": 24.93334, \"variety\": \"No. 462\", \"year\": 1931, \"site\": \"Grand Rapids\"}, {\"yield\": 28.1, \"variety\": \"No. 462\", \"year\": 1931, \"site\": \"Duluth\"}, {\"yield\": 32.76667, \"variety\": \"Peatland\", \"year\": 1931, \"site\": \"University Farm\"}, {\"yield\": 48.56666, \"variety\": \"Peatland\", \"year\": 1931, \"site\": \"Waseca\"}, {\"yield\": 29.86667, \"variety\": \"Peatland\", \"year\": 1931, \"site\": \"Morris\"}, {\"yield\": 41.6, \"variety\": \"Peatland\", \"year\": 1931, \"site\": \"Crookston\"}, {\"yield\": 34.7, \"variety\": \"Peatland\", \"year\": 1931, \"site\": \"Grand Rapids\"}, {\"yield\": 32.0, \"variety\": \"Peatland\", \"year\": 1931, \"site\": \"Duluth\"}, {\"yield\": 24.66667, \"variety\": \"No. 475\", \"year\": 1931, \"site\": \"University Farm\"}, {\"yield\": 46.76667, \"variety\": \"No. 475\", \"year\": 1931, \"site\": \"Waseca\"}, {\"yield\": 22.6, \"variety\": \"No. 475\", \"year\": 1931, \"site\": \"Morris\"}, {\"yield\": 44.1, \"variety\": \"No. 475\", \"year\": 1931, \"site\": \"Crookston\"}, {\"yield\": 19.7, \"variety\": \"No. 475\", \"year\": 1931, \"site\": \"Grand Rapids\"}, {\"yield\": 33.06666, \"variety\": \"No. 475\", \"year\": 1931, \"site\": \"Duluth\"}, {\"yield\": 39.3, \"variety\": \"Wisconsin No. 38\", \"year\": 1931, \"site\": \"University Farm\"}, {\"yield\": 58.8, \"variety\": \"Wisconsin No. 38\", \"year\": 1931, \"site\": \"Waseca\"}, {\"yield\": 29.46667, \"variety\": \"Wisconsin No. 38\", \"year\": 1931, \"site\": \"Morris\"}, {\"yield\": 49.86667, \"variety\": \"Wisconsin No. 38\", \"year\": 1931, \"site\": \"Crookston\"}, {\"yield\": 34.46667, \"variety\": \"Wisconsin No. 38\", \"year\": 1931, \"site\": \"Grand Rapids\"}, {\"yield\": 31.6, \"variety\": \"Wisconsin No. 38\", \"year\": 1931, \"site\": \"Duluth\"}, {\"yield\": 26.9, \"variety\": \"Manchuria\", \"year\": 1932, \"site\": \"University Farm\"}, {\"yield\": 33.46667, \"variety\": \"Manchuria\", \"year\": 1932, \"site\": \"Waseca\"}, {\"yield\": 34.36666, \"variety\": \"Manchuria\", \"year\": 1932, \"site\": \"Morris\"}, {\"yield\": 32.96667, \"variety\": \"Manchuria\", \"year\": 1932, \"site\": \"Crookston\"}, {\"yield\": 22.13333, \"variety\": \"Manchuria\", \"year\": 1932, \"site\": \"Grand Rapids\"}, {\"yield\": 22.56667, \"variety\": \"Manchuria\", \"year\": 1932, \"site\": \"Duluth\"}, {\"yield\": 36.8, \"variety\": \"Glabron\", \"year\": 1932, \"site\": \"University Farm\"}, {\"yield\": 37.73333, \"variety\": \"Glabron\", \"year\": 1932, \"site\": \"Waseca\"}, {\"yield\": 35.13333, \"variety\": \"Glabron\", \"year\": 1932, \"site\": \"Morris\"}, {\"yield\": 26.16667, \"variety\": \"Glabron\", \"year\": 1932, \"site\": \"Crookston\"}, {\"yield\": 14.43333, \"variety\": \"Glabron\", \"year\": 1932, \"site\": \"Grand Rapids\"}, {\"yield\": 25.86667, \"variety\": \"Glabron\", \"year\": 1932, \"site\": \"Duluth\"}, {\"yield\": 27.43334, \"variety\": \"Svansota\", \"year\": 1932, \"site\": \"University Farm\"}, {\"yield\": 38.5, \"variety\": \"Svansota\", \"year\": 1932, \"site\": \"Waseca\"}, {\"yield\": 35.03333, \"variety\": \"Svansota\", \"year\": 1932, \"site\": \"Morris\"}, {\"yield\": 20.63333, \"variety\": \"Svansota\", \"year\": 1932, \"site\": \"Crookston\"}, {\"yield\": 16.63333, \"variety\": \"Svansota\", \"year\": 1932, \"site\": \"Grand Rapids\"}, {\"yield\": 22.23333, \"variety\": \"Svansota\", \"year\": 1932, \"site\": \"Duluth\"}, {\"yield\": 26.8, \"variety\": \"Velvet\", \"year\": 1932, \"site\": \"University Farm\"}, {\"yield\": 37.4, \"variety\": \"Velvet\", \"year\": 1932, \"site\": \"Waseca\"}, {\"yield\": 38.83333, \"variety\": \"Velvet\", \"year\": 1932, \"site\": \"Morris\"}, {\"yield\": 32.06666, \"variety\": \"Velvet\", \"year\": 1932, \"site\": \"Crookston\"}, {\"yield\": 32.23333, \"variety\": \"Velvet\", \"year\": 1932, \"site\": \"Grand Rapids\"}, {\"yield\": 22.46667, \"variety\": \"Velvet\", \"year\": 1932, \"site\": \"Duluth\"}, {\"yield\": 29.06667, \"variety\": \"Trebi\", \"year\": 1932, \"site\": \"University Farm\"}, {\"yield\": 49.2333, \"variety\": \"Trebi\", \"year\": 1932, \"site\": \"Waseca\"}, {\"yield\": 46.63333, \"variety\": \"Trebi\", \"year\": 1932, \"site\": \"Morris\"}, {\"yield\": 41.83333, \"variety\": \"Trebi\", \"year\": 1932, \"site\": \"Crookston\"}, {\"yield\": 20.63333, \"variety\": \"Trebi\", \"year\": 1932, \"site\": \"Grand Rapids\"}, {\"yield\": 30.6, \"variety\": \"Trebi\", \"year\": 1932, \"site\": \"Duluth\"}, {\"yield\": 26.43334, \"variety\": \"No. 457\", \"year\": 1932, \"site\": \"University Farm\"}, {\"yield\": 42.2, \"variety\": \"No. 457\", \"year\": 1932, \"site\": \"Waseca\"}, {\"yield\": 43.53334, \"variety\": \"No. 457\", \"year\": 1932, \"site\": \"Morris\"}, {\"yield\": 34.33333, \"variety\": \"No. 457\", \"year\": 1932, \"site\": \"Crookston\"}, {\"yield\": 19.46667, \"variety\": \"No. 457\", \"year\": 1932, \"site\": \"Grand Rapids\"}, {\"yield\": 22.7, \"variety\": \"No. 457\", \"year\": 1932, \"site\": \"Duluth\"}, {\"yield\": 25.56667, \"variety\": \"No. 462\", \"year\": 1932, \"site\": \"University Farm\"}, {\"yield\": 44.7, \"variety\": \"No. 462\", \"year\": 1932, \"site\": \"Waseca\"}, {\"yield\": 47.0, \"variety\": \"No. 462\", \"year\": 1932, \"site\": \"Morris\"}, {\"yield\": 30.53333, \"variety\": \"No. 462\", \"year\": 1932, \"site\": \"Crookston\"}, {\"yield\": 19.9, \"variety\": \"No. 462\", \"year\": 1932, \"site\": \"Grand Rapids\"}, {\"yield\": 22.5, \"variety\": \"No. 462\", \"year\": 1932, \"site\": \"Duluth\"}, {\"yield\": 28.06667, \"variety\": \"Peatland\", \"year\": 1932, \"site\": \"University Farm\"}, {\"yield\": 36.03333, \"variety\": \"Peatland\", \"year\": 1932, \"site\": \"Waseca\"}, {\"yield\": 43.2, \"variety\": \"Peatland\", \"year\": 1932, \"site\": \"Morris\"}, {\"yield\": 25.23333, \"variety\": \"Peatland\", \"year\": 1932, \"site\": \"Crookston\"}, {\"yield\": 26.76667, \"variety\": \"Peatland\", \"year\": 1932, \"site\": \"Grand Rapids\"}, {\"yield\": 31.36667, \"variety\": \"Peatland\", \"year\": 1932, \"site\": \"Duluth\"}, {\"yield\": 30.0, \"variety\": \"No. 475\", \"year\": 1932, \"site\": \"University Farm\"}, {\"yield\": 41.26667, \"variety\": \"No. 475\", \"year\": 1932, \"site\": \"Waseca\"}, {\"yield\": 44.23333, \"variety\": \"No. 475\", \"year\": 1932, \"site\": \"Morris\"}, {\"yield\": 32.13333, \"variety\": \"No. 475\", \"year\": 1932, \"site\": \"Crookston\"}, {\"yield\": 15.23333, \"variety\": \"No. 475\", \"year\": 1932, \"site\": \"Grand Rapids\"}, {\"yield\": 27.36667, \"variety\": \"No. 475\", \"year\": 1932, \"site\": \"Duluth\"}, {\"yield\": 38.0, \"variety\": \"Wisconsin No. 38\", \"year\": 1932, \"site\": \"University Farm\"}, {\"yield\": 58.16667, \"variety\": \"Wisconsin No. 38\", \"year\": 1932, \"site\": \"Waseca\"}, {\"yield\": 47.16667, \"variety\": \"Wisconsin No. 38\", \"year\": 1932, \"site\": \"Morris\"}, {\"yield\": 35.9, \"variety\": \"Wisconsin No. 38\", \"year\": 1932, \"site\": \"Crookston\"}, {\"yield\": 20.66667, \"variety\": \"Wisconsin No. 38\", \"year\": 1932, \"site\": \"Grand Rapids\"}, {\"yield\": 29.33333, \"variety\": \"Wisconsin No. 38\", \"year\": 1932, \"site\": \"Duluth\"}]}}, {\"mode\": \"vega-lite\"});\n",
       "</script>"
      ],
      "text/plain": [
       "alt.LayerChart(...)"
      ]
     },
     "execution_count": 20,
     "metadata": {},
     "output_type": "execute_result"
    }
   ],
   "source": [
    "import altair as alt\n",
    "from vega_datasets import data\n",
    "\n",
    "source = data.barley()\n",
    "\n",
    "error_bars = alt.Chart(source).mark_errorbar(extent='ci').encode(\n",
    "  x=alt.X('yield:Q', scale=alt.Scale(zero=False)),\n",
    "  y=alt.Y('variety:N')\n",
    ")\n",
    "\n",
    "points = alt.Chart(source).mark_point(filled=True, color='black').encode(\n",
    "  x=alt.X('yield:Q', aggregate='mean'),\n",
    "  y=alt.Y('variety:N'),\n",
    ")\n",
    "\n",
    "error_bars + points"
   ]
  },
  {
   "cell_type": "code",
   "execution_count": null,
   "id": "a56bcfac-dcd4-490e-bc3d-842f0d257a67",
   "metadata": {},
   "outputs": [],
   "source": []
  }
 ],
 "metadata": {
  "kernelspec": {
   "display_name": "Python 3 (ipykernel)",
   "language": "python",
   "name": "python3"
  },
  "language_info": {
   "codemirror_mode": {
    "name": "ipython",
    "version": 3
   },
   "file_extension": ".py",
   "mimetype": "text/x-python",
   "name": "python",
   "nbconvert_exporter": "python",
   "pygments_lexer": "ipython3",
   "version": "3.8.12"
  }
 },
 "nbformat": 4,
 "nbformat_minor": 5
}
