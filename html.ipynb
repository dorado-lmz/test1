{
 "cells": [
  {
   "cell_type": "code",
   "execution_count": 1,
   "id": "e49002ab-89c9-416c-a2db-f1fbb8f3ce47",
   "metadata": {},
   
   "outputs": [
   		{
          "data": {
            "text/html": [
            		"<div class='xxx'>hello world!</div>"
            	],
            	  "text/plain": [
              	"<IPython.core.display.HTML object>"
            	]
            },
            "metadata": {},
            "output_type": "display_data",
         }

    ],
   "source": [
    "import ipywidgets as widgets"
   ]
  }
 ],
 "metadata": {
  "kernelspec": {
   "display_name": "Python 3 (ipykernel)",
   "language": "python",
   "name": "python3"
  },
  "language_info": {
   "codemirror_mode": {
    "name": "ipython",
    "version": 3
   },
   "file_extension": ".py",
   "mimetype": "text/x-python",
   "name": "python",
   "nbconvert_exporter": "python",
   "pygments_lexer": "ipython3",
   "version": "3.8.12"
  }
 },
 "nbformat": 4,
 "nbformat_minor": 5
}
